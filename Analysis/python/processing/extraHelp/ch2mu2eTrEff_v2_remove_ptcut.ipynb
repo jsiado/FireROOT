{
 "cells": [
  {
   "cell_type": "markdown",
   "metadata": {},
   "source": [
    "# This notebook is the version 2 of the trigger efficiency. Removing the pt requirement to match reco muons to gen muons and adding eff vs $\\Delta R$ plots<br>\n",
    "root file: ch2mu2eTrEff_rmpt.root"
   ]
  },
  {
   "cell_type": "code",
   "execution_count": 3,
   "metadata": {
    "slideshow": {
     "slide_type": "skip"
    }
   },
   "outputs": [
    {
     "name": "stdout",
     "output_type": "stream",
     "text": [
      "Welcome to JupyROOT 6.12/07\n"
     ]
    }
   ],
   "source": [
    "import ROOT\n",
    "fin = ROOT.TFile.Open(\"../../outputs/rootfiles/modules/ch2mu2eTrEff_rmpt.root\",\"Read\")\n",
    "\n",
    "S1 = \"mXX-100_mA-0p25_lxy-300\" # fewer events in this sample\n",
    "S2 = \"mXX-500_mA-0p25_lxy-300\"\n",
    "S3 = \"mXX-500_mA-1p2_lxy-300\"\n",
    "S4 = \"mXX-1000_mA-5_lxy-300\"\n",
    "\n",
    "stest = S4\n",
    "\n",
    "ch = [\"2mu2e\",\"4mu\"]\n",
    "\n",
    "samples = [S1, S2, S3, S4]\n",
    "colors = [1,2,3,4,5,6,7]\n",
    "markers = [24,25,26,32,27]"
   ]
  },
  {
   "cell_type": "markdown",
   "metadata": {},
   "source": [
    "### number of gen muons"
   ]
  },
  {
   "cell_type": "code",
   "execution_count": 2,
   "metadata": {},
   "outputs": [],
   "source": [
    "# number of gen muons\n",
    "c1_ng = ROOT.TCanvas(\"c1_ng\",\"c1_ng\", 600, 400)\n",
    "c1_ng.SetGrid(1,1)\n",
    "c1_ng.cd()\n",
    "leg = ROOT.TLegend (.6, .6, .9, .9)\n",
    "leg.SetHeader(S3, \"C\")\n",
    "leg.SetBorderSize(0)\n",
    "leg.SetFillStyle(0)\n",
    "\n",
    "htod = \"ngenall\"\n",
    "\n",
    "maxb = 0\n",
    "for i, sam in enumerate(samples):\n",
    "    hist = fin.Get(\"ch\" + ch[0] + \"/sig/\" + sam + \"/\" + htod)\n",
    "    maxy = hist.GetBinContent(hist.GetMaximumBin())\n",
    "    if maxy > maxb:\n",
    "        maxb = maxy\n",
    "\n",
    "for i,sam in enumerate(samples):\n",
    "    hist = fin.Get(\"ch\" + ch[0] + \"/sig/\" + sam + \"/\" + htod) \n",
    "    hist.SetStats(0)\n",
    "    hist.SetAxisRange(0., maxb + maxb*0.2,\"Y\")\n",
    "    hist.SetLineColor(colors[i])\n",
    "    hist.SetMarkerColor(colors[i])\n",
    "    hist.SetMarkerStyle(markers[i])\n",
    "    hist.SetTitle(\"Number of gen muons; Muons; entries\")\n",
    "    leg.AddEntry(hist, sam, \"p\")\n",
    "    hist.Draw(\"same\")\n",
    "leg.Draw()"
   ]
  },
  {
   "cell_type": "code",
   "execution_count": 3,
   "metadata": {
    "slideshow": {
     "slide_type": "slide"
    }
   },
   "outputs": [
    {
     "name": "stderr",
     "output_type": "stream",
     "text": [
      "Info in <TCanvas::Print>: png file nbout/dr0p40p2/n_gen.png has been created\n"
     ]
    },
    {
     "data": {
      "image/png": "[encoded data removed]",
      "text/plain": [
       "<IPython.core.display.Image object>"
      ]
     },
     "metadata": {},
     "output_type": "display_data"
    }
   ],
   "source": [
    "c1_ng.Draw()\n",
    "c1_ng.SaveAs('nbout/dr0p40p2/n_gen.png')"
   ]
  },
  {
   "cell_type": "markdown",
   "metadata": {},
   "source": [
    "Need to look at the events with less than two muons"
   ]
  },
  {
   "cell_type": "markdown",
   "metadata": {
    "slideshow": {
     "slide_type": "slide"
    }
   },
   "source": [
    "## Only using events with 2 gen muons"
   ]
  },
  {
   "cell_type": "markdown",
   "metadata": {},
   "source": [
    "### $\\Delta R$ gen muons"
   ]
  },
  {
   "cell_type": "code",
   "execution_count": 4,
   "metadata": {},
   "outputs": [],
   "source": [
    "#Delta R for gen muons\n",
    "c1_drg = ROOT.TCanvas(\"c1_drg\",\"c1_drg\", 600, 400)\n",
    "c1_drg.SetGrid(1,1)\n",
    "c1_drg.cd()\n",
    "leg = ROOT.TLegend (.6, .6, 0.9, .9)\n",
    "leg.SetHeader(\"Samples\", \"C\")\n",
    "leg.SetBorderSize(0)\n",
    "leg.SetFillStyle(0)\n",
    "\n",
    "htod = \"gen_dR\"\n",
    "\n",
    "maxb = 0\n",
    "for j, sam in enumerate(samples):\n",
    "    hist = fin.Get(\"ch\" + ch[0] + \"/sig/\" + sam + \"/\" + htod)\n",
    "    maxy = hist.GetBinContent(hist.GetMaximumBin())\n",
    "    if maxy > maxb:\n",
    "        maxb = maxy\n",
    "\n",
    "for i,sam in enumerate(samples):\n",
    "    hist = fin.Get(\"ch\" + ch[0] + \"/sig/\" + sam + \"/\" + htod) \n",
    "    hist.SetStats(0)\n",
    "    hist.SetAxisRange(0., maxb + maxb*0.1,\"Y\")\n",
    "    hist.SetLineColor(colors[i])\n",
    "    hist.SetMarkerColor(colors[i])\n",
    "    hist.SetMarkerStyle(markers[i])\n",
    "    hist.SetTitle(\"#Delta R for gen muons; #Delta R; Events\")\n",
    "    leg.AddEntry(hist, sam, \"p\")\n",
    "    hist.Draw(\"same\")\n",
    "leg.Draw()"
   ]
  },
  {
   "cell_type": "code",
   "execution_count": 15,
   "metadata": {
    "slideshow": {
     "slide_type": "slide"
    }
   },
   "outputs": [
    {
     "name": "stderr",
     "output_type": "stream",
     "text": [
      "Info in <TCanvas::Print>: png file nbout/dr0p40p2/dr_gen.png has been created\n"
     ]
    },
    {
     "data": {
      "image/png": "[encoded data removed]",
      "text/plain": [
       "<IPython.core.display.Image object>"
      ]
     },
     "metadata": {},
     "output_type": "display_data"
    }
   ],
   "source": [
    "c1_drg.Draw()\n",
    "c1_drg.SaveAs('nbout/dr0p40p2/dr_gen.png')"
   ]
  },
  {
   "cell_type": "markdown",
   "metadata": {
    "slideshow": {
     "slide_type": "skip"
    }
   },
   "source": [
    "### $\\Delta R$ reco muons matched to gen muons"
   ]
  },
  {
   "cell_type": "code",
   "execution_count": 5,
   "metadata": {},
   "outputs": [],
   "source": [
    "#dR reco muons\n",
    "c1_drr = ROOT.TCanvas(\"c1_drr\",\"c1_drr\", 600, 400)\n",
    "c1_drr.SetGrid(1,1)\n",
    "c1_drr.cd()\n",
    "leg = ROOT.TLegend (.6, .6, 0.9, .9)\n",
    "leg.SetHeader(\"Samples\", \"C\")\n",
    "leg.SetBorderSize(0)\n",
    "leg.SetFillStyle(0)\n",
    "htod = \"reco_dR\"\n",
    "maxb = 0\n",
    "for j, sam in enumerate(samples):\n",
    "    hist = fin.Get(\"ch\" + ch[0] + \"/sig/\" + sam + \"/\" + htod)\n",
    "    maxy = hist.GetBinContent(hist.GetMaximumBin())\n",
    "    if maxy > maxb:\n",
    "        maxb = maxy\n",
    "for i,sam in enumerate(samples):\n",
    "    hist = fin.Get(\"ch\" + ch[0] + \"/sig/\" + sam + \"/\" + htod) \n",
    "    hist.SetStats(0)\n",
    "    hist.SetAxisRange(0., maxb + maxb*0.1,\"Y\")\n",
    "    hist.SetLineColor(colors[i])\n",
    "    hist.SetMarkerColor(colors[i])\n",
    "    hist.SetMarkerStyle(markers[i])\n",
    "    hist.SetTitle(\"#Delta R reco muons; #Delta R; Events\")\n",
    "    leg.AddEntry(hist, sam, \"p\")\n",
    "    hist.Draw(\"same\")\n",
    "leg.Draw()"
   ]
  },
  {
   "cell_type": "code",
   "execution_count": 16,
   "metadata": {},
   "outputs": [
    {
     "name": "stderr",
     "output_type": "stream",
     "text": [
      "Info in <TCanvas::Print>: png file nbout/dr0p40p2/dr_gen.png has been created\n"
     ]
    },
    {
     "data": {
      "image/png": "[encoded data removed]",
      "text/plain": [
       "<IPython.core.display.Image object>"
      ]
     },
     "metadata": {},
     "output_type": "display_data"
    }
   ],
   "source": [
    "c1_drr.Draw()\n",
    "c1_drr.SaveAs('nbout/dr0p40p2/dr_reco.png')"
   ]
  },
  {
   "cell_type": "markdown",
   "metadata": {},
   "source": [
    "### Matching reco muons to gen muons <br>\n",
    "Now for the two reco muons matched to the gen muons.<br>\n",
    "A reco muon is matched to a gen muon if: <br> 1. $\\Delta R (gen,reco) <0.4$ <br>"
   ]
  },
  {
   "cell_type": "code",
   "execution_count": 4,
   "metadata": {},
   "outputs": [],
   "source": [
    "#hists for reco match to gen\n",
    "c1_match_hist = ROOT.TCanvas(\"c1_match_hist\",\"c1_match_hist\", 600, 400)\n",
    "c1_match_hist.SetGrid(1,1)\n",
    "c1_match_hist.cd()\n",
    "leg = ROOT.TLegend (.6, .6, .9, .9)\n",
    "leg.SetBorderSize(0)\n",
    "leg.SetFillStyle(0)\n",
    "\n",
    "htod = [\"eff_num\", \"eff_den\"]\n",
    "maxb = 0\n",
    "for i, h in enumerate(htod):\n",
    "    hist = fin.Get(\"ch\" + ch[0] + \"/sig/\" + stest + \"/\" + h)\n",
    "    maxy = hist.GetBinContent(hist.GetMaximumBin())\n",
    "    if maxy > maxb:\n",
    "        maxb = maxy\n",
    "for i,h in enumerate(htod):\n",
    "    hist = fin.Get(\"ch\" + ch[0] + \"/sig/\" + stest + \"/\" + h)\n",
    "    hist.SetAxisRange(0., maxb+ 0.15*maxb,\"Y\")\n",
    "    hist.SetStats(0)\n",
    "    hist.SetLineColor(colors[i])\n",
    "    hist.SetMarkerColor(colors[i])\n",
    "    hist.SetMarkerStyle(markers[i])\n",
    "    hist.SetTitle(\"Leading p_{T} gen muons; p_{T}^{gen} [GeV]; Events\")\n",
    "    leg.AddEntry(hist, h[4:], \"p\")\n",
    "    hist.Draw(\"same\")\n",
    "leg.Draw()"
   ]
  },
  {
   "cell_type": "code",
   "execution_count": 5,
   "metadata": {},
   "outputs": [],
   "source": [
    "#eff matching reco to gen\n",
    "c1_match_eff = ROOT.TCanvas(\"c1_match_eff\",\"c1_match_eff\", 600, 400)\n",
    "c1_match_eff.SetGrid(1,1)\n",
    "c1_match_eff.cd()\n",
    "\n",
    "leg1 = ROOT.TLegend (.2, .2, .5, .5)\n",
    "leg1.SetHeader(\"Samples:\",\"C\");\n",
    "leg1.SetBorderSize(0)\n",
    "leg1.SetFillStyle(0)\n",
    "\n",
    "num = fin.Get(\"ch\" + ch[0] + \"/sig/\" + stest + \"/\" + \"eff_num\")\n",
    "den = fin.Get(\"ch\" + ch[0] + \"/sig/\" + stest + \"/\" + \"eff_den\")\n",
    "num.SetTitle(\" ; p_{T} [GeV]; Efficiency\")\n",
    "eff = ROOT.TEfficiency(num, den)\n",
    "eff.SetLineColor(ROOT.kRed)\n",
    "eff.SetMarkerColor(ROOT.kRed)\n",
    "leg1.AddEntry(eff, stest, \"l\")\n",
    "eff.Draw()\n",
    "leg1.Draw()"
   ]
  },
  {
   "cell_type": "code",
   "execution_count": 6,
   "metadata": {},
   "outputs": [
    {
     "name": "stderr",
     "output_type": "stream",
     "text": [
      "Info in <TCanvas::Print>: pdf file nbout/dr0p40p2/pT_match_hist.pdf has been created\n",
      "Info in <TCanvas::Print>: png file nbout/dr0p40p2/pT_match_eff.png has been created\n"
     ]
    },
    {
     "data": {
      "image/png": "[encoded data removed]",
      "text/plain": [
       "<IPython.core.display.Image object>"
      ]
     },
     "metadata": {},
     "output_type": "display_data"
    },
    {
     "data": {
      "image/png": "[encoded data removed]",
      "text/plain": [
       "<IPython.core.display.Image object>"
      ]
     },
     "metadata": {},
     "output_type": "display_data"
    }
   ],
   "source": [
    "c1_match_hist.Draw()\n",
    "c1_match_hist.SaveAs('nbout/dr0p40p2/pT_match_hist.pdf')\n",
    "c1_match_eff.Draw()\n",
    "c1_match_eff.SaveAs('nbout/dr0p40p2/pT_match_eff.png')"
   ]
  },
  {
   "cell_type": "code",
   "execution_count": 13,
   "metadata": {},
   "outputs": [
    {
     "name": "stderr",
     "output_type": "stream",
     "text": [
      "Info in <TCanvas::Print>: png file nbout/dr0p40p2/pT_match_eff.png has been created\n"
     ]
    },
    {
     "data": {
      "image/png": "[encoded data removed]",
      "text/plain": [
       "<IPython.core.display.Image object>"
      ]
     },
     "metadata": {},
     "output_type": "display_data"
    }
   ],
   "source": []
  },
  {
   "cell_type": "code",
   "execution_count": 8,
   "metadata": {},
   "outputs": [],
   "source": [
    "#hist for trEff and pT\n",
    "c1_pt_hist = ROOT.TCanvas(\"c1_pt_hist\",\"c1_pt_hist\", 600, 400)\n",
    "c1_pt_hist.SetGrid(1,1)\n",
    "c1_pt_hist.cd()\n",
    "leg = ROOT.TLegend (.6, .6, .9, .9)\n",
    "leg.SetBorderSize(0)\n",
    "leg.SetFillStyle(0)\n",
    "\n",
    "htod = [\"Matched_pT\", \"Total_pT\"]\n",
    "maxb = 0\n",
    "for i, h in enumerate(htod):\n",
    "    hist = fin.Get(\"ch\" + ch[0] + \"/sig/\" + stest + \"/\" + h)\n",
    "    maxy = hist.GetBinContent(hist.GetMaximumBin())\n",
    "    if maxy > maxb:\n",
    "        maxb = maxy\n",
    "\n",
    "for i,h in enumerate(htod):\n",
    "    hist = fin.Get(\"ch\" + ch[0] + \"/sig/\" + stest + \"/\" + h)\n",
    "    hist.SetAxisRange(0., maxb + 0.15*maxb ,\"Y\")\n",
    "    hist.SetStats(0)\n",
    "    hist.SetLineColor(colors[i])\n",
    "    hist.SetMarkerColor(colors[i])\n",
    "    hist.SetMarkerStyle(markers[i])\n",
    "    hist.SetTitle(\"Leading p_{T}; p_{T}^{reco} [GeV]; Events\")\n",
    "    leg.AddEntry(hist, h[:], \"p\")\n",
    "    hist.Draw(\"same\")\n",
    "leg.Draw()"
   ]
  },
  {
   "cell_type": "code",
   "execution_count": 9,
   "metadata": {},
   "outputs": [],
   "source": [
    "#TrEff for pT\n",
    "c1_pt_treff = ROOT.TCanvas(\"c1_pt_treff\",\"c1_pt_treff\", 600, 400)\n",
    "c1_pt_treff.SetGrid(1,1)\n",
    "c1_pt_treff.cd()\n",
    "\n",
    "leg1 = ROOT.TLegend (.1, .1, .4, .4)\n",
    "leg1.SetHeader(\"Samples:\",\"C\");\n",
    "leg1.SetBorderSize(0)\n",
    "leg1.SetFillStyle(0)\n",
    "\n",
    "num = fin.Get(\"ch\" + ch[0] + \"/sig/\" + stest + \"/\" + \"Matched_pT\")\n",
    "den = fin.Get(\"ch\" + ch[0] + \"/sig/\" + stest + \"/\" + \"Total_pT\")\n",
    "num.SetTitle(\" ; -p_{T} [GeV]; Efficiency\")\n",
    "eff = ROOT.TEfficiency(num, den)\n",
    "eff.SetLineColor(ROOT.kRed)\n",
    "eff.SetMarkerColor(ROOT.kRed)\n",
    "leg1.AddEntry(eff, stest, \"l\")\n",
    "eff.Draw()\n",
    "\n",
    "leg1.Draw()"
   ]
  },
  {
   "cell_type": "markdown",
   "metadata": {},
   "source": [
    "start with dr"
   ]
  },
  {
   "cell_type": "code",
   "execution_count": 10,
   "metadata": {},
   "outputs": [],
   "source": [
    "#dR hists\n",
    "c1_dR_hist = ROOT.TCanvas(\"c1_dR_hist\",\"c1_dR_hist\", 600, 400)\n",
    "c1_dR_hist.SetGrid(1,1)\n",
    "c1_dR_hist.cd()\n",
    "leg = ROOT.TLegend (.6, .6, .9, .9)\n",
    "leg.SetBorderSize(0)\n",
    "leg.SetFillStyle(0)\n",
    "\n",
    "htod = [\"Matched_dR\", \"Total_dR\"]\n",
    "maxb = 0\n",
    "for i, h in enumerate(htod):\n",
    "    hist = fin.Get(\"ch\" + ch[0] + \"/sig/\" + stest + \"/\" + h)\n",
    "    maxy = hist.GetBinContent(hist.GetMaximumBin())\n",
    "    if maxy > maxb:\n",
    "        maxb = maxy\n",
    "\n",
    "for i,h in enumerate(htod):\n",
    "    hist = fin.Get(\"ch\" + ch[0] + \"/sig/\" + stest + \"/\" + h)\n",
    "    hist.SetAxisRange(0., maxb + 0.15*maxb ,\"Y\")\n",
    "    hist.SetStats(0)\n",
    "    hist.SetLineColor(colors[i])\n",
    "    hist.SetMarkerColor(colors[i])\n",
    "    hist.SetMarkerStyle(markers[i])\n",
    "    hist.SetTitle(\"; #Delta R; Efficiency\")\n",
    "    leg.AddEntry(hist, h[:], \"p\")\n",
    "    hist.Draw(\"same\")"
   ]
  },
  {
   "cell_type": "code",
   "execution_count": 11,
   "metadata": {
    "slideshow": {
     "slide_type": "skip"
    }
   },
   "outputs": [],
   "source": [
    "#dR trigger efficiency\n",
    "c1_dR_eff = ROOT.TCanvas(\"c1_dR_eff\",\"c1_dR_eff\", 600, 400)\n",
    "c1_dR_eff.SetGrid(1,1)\n",
    "c1_dR_eff.cd()\n",
    "leg1 = ROOT.TLegend (.1, .1, .4, .4)\n",
    "leg1.SetHeader(\"Samples:\",\"C\");\n",
    "leg1.SetBorderSize(0)\n",
    "leg1.SetFillStyle(0)\n",
    "\n",
    "num = fin.Get(\"ch\" + ch[0] + \"/sig/\" + stest + \"/\" + \"Matched_dR\")\n",
    "den = fin.Get(\"ch\" + ch[0] + \"/sig/\" + stest + \"/\" + \"Total_dR\")\n",
    "num.SetTitle(\" ; #Delta R; Efficiency\")\n",
    "eff = ROOT.TEfficiency(num, den)\n",
    "eff.SetLineColor(ROOT.kRed)\n",
    "eff.SetMarkerColor(ROOT.kRed)\n",
    "leg1.AddEntry(eff, stest, \"l\")\n",
    "eff.Draw()"
   ]
  },
  {
   "cell_type": "markdown",
   "metadata": {},
   "source": [
    "#### First look at an efficiency.\n",
    "\n",
    "# $\\epsilon = \\frac{\\text{Events with both reco muons matched to gen muons}}{\\text{Total events with 2 gen muons}}$\n",
    "<br>"
   ]
  },
  {
   "cell_type": "markdown",
   "metadata": {},
   "source": [
    "$p_{T}$ distributions for events with 2 muons macthed to gen muons (num) and all events with two gen muons (den)"
   ]
  },
  {
   "cell_type": "markdown",
   "metadata": {},
   "source": [
    "$\\Delta R$ for gen muons follow trends seems before"
   ]
  },
  {
   "cell_type": "markdown",
   "metadata": {},
   "source": [
    "Good efficiency up to 280 GeV.<br>"
   ]
  },
  {
   "cell_type": "markdown",
   "metadata": {},
   "source": [
    "# Now trigger efficiency"
   ]
  },
  {
   "cell_type": "markdown",
   "metadata": {},
   "source": [
    "Definitions:<br>\n",
    "# $\\epsilon = \\frac{\\text{Events with both muons matched to trigger objects}}{\\text{Total events with 2 reco muons}}$\n",
    "<br>"
   ]
  },
  {
   "cell_type": "code",
   "execution_count": null,
   "metadata": {},
   "outputs": [],
   "source": []
  },
  {
   "cell_type": "markdown",
   "metadata": {},
   "source": [
    "## $\\Delta R$ plots "
   ]
  },
  {
   "cell_type": "code",
   "execution_count": 14,
   "metadata": {},
   "outputs": [
    {
     "name": "stderr",
     "output_type": "stream",
     "text": [
      "Info in <TCanvas::Print>: png file nbout/dr0p40p2/dR_tri_hist.png has been created\n"
     ]
    },
    {
     "data": {
      "image/png": "[encoded data removed]",
      "text/plain": [
       "<IPython.core.display.Image object>"
      ]
     },
     "metadata": {},
     "output_type": "display_data"
    }
   ],
   "source": [
    "leg.Draw()\n",
    "c1_dR_hist.Draw()\n",
    "c1_dR_hist.SaveAs('nbout/dr0p40p2/dR_tri_hist.png')"
   ]
  },
  {
   "cell_type": "markdown",
   "metadata": {},
   "source": [
    "Plots\n"
   ]
  },
  {
   "cell_type": "code",
   "execution_count": 18,
   "metadata": {},
   "outputs": [
    {
     "name": "stderr",
     "output_type": "stream",
     "text": [
      "Info in <TCanvas::Print>: pdf file nbout/dr0p40p2/pT_tri_hist.pdf has been created\n"
     ]
    },
    {
     "data": {
      "image/png": "[encoded data removed]",
      "text/plain": [
       "<IPython.core.display.Image object>"
      ]
     },
     "metadata": {},
     "output_type": "display_data"
    }
   ],
   "source": [
    "c1_pt_treff.Draw()\n",
    "c1_pt_treff.SaveAs('nbout/dr0p40p2/pT_tri_hist.pdf')"
   ]
  },
  {
   "cell_type": "code",
   "execution_count": 19,
   "metadata": {},
   "outputs": [
    {
     "name": "stderr",
     "output_type": "stream",
     "text": [
      "Info in <TCanvas::Print>: png file nbout/dr0p40p2/dR_tri_eff.png has been created\n"
     ]
    },
    {
     "data": {
      "image/png": "[encoded data removed]",
      "text/plain": [
       "<IPython.core.display.Image object>"
      ]
     },
     "metadata": {},
     "output_type": "display_data"
    }
   ],
   "source": [
    "leg1.Draw()\n",
    "c1_dR_eff.Draw()\n",
    "c1_dR_eff.SaveAs('nbout/dr0p40p2/dR_tri_eff.png')"
   ]
  },
  {
   "cell_type": "code",
   "execution_count": 20,
   "metadata": {},
   "outputs": [
    {
     "name": "stderr",
     "output_type": "stream",
     "text": [
      "Info in <TCanvas::Print>: png file nbout/dr0p40p2/pT_tri_eff.png has been created\n"
     ]
    },
    {
     "data": {
      "image/png": "[encoded data removed]",
      "text/plain": [
       "<IPython.core.display.Image object>"
      ]
     },
     "metadata": {},
     "output_type": "display_data"
    }
   ],
   "source": [
    "c1_pt_treff.Draw()\n",
    "c1_pt_treff.SaveAs('nbout/dr0p40p2/pT_tri_eff.png')"
   ]
  }
 ],
 "metadata": {
  "kernelspec": {
   "display_name": "Python 2",
   "language": "python",
   "name": "python2"
  },
  "language_info": {
   "codemirror_mode": {
    "name": "ipython",
    "version": 2
   },
   "file_extension": ".py",
   "mimetype": "text/x-python",
   "name": "python",
   "nbconvert_exporter": "python",
   "pygments_lexer": "ipython2",
   "version": "2.7.14+"
  }
 },
 "nbformat": 4,
 "nbformat_minor": 2
}
